{
 "cells": [
  {
   "cell_type": "code",
   "execution_count": 1,
   "id": "1db61563-ee1f-4632-b7ef-44dc9f0c4215",
   "metadata": {},
   "outputs": [],
   "source": [
    "import mlflow\n",
    "import pandas as pd\n",
    "import numpy as np\n",
    "import logging\n",
    "from sklearn.model_selection import train_test_split"
   ]
  },
  {
   "cell_type": "code",
   "execution_count": 2,
   "id": "3fff11be-6be2-4516-82cf-3bc5e55fb059",
   "metadata": {},
   "outputs": [],
   "source": [
    "logging.basicConfig(level=logging.WARN)\n",
    "logger = logging.getLogger(__name__)"
   ]
  },
  {
   "cell_type": "markdown",
   "id": "6e9cef69-54ac-448c-b67a-042c6495769c",
   "metadata": {},
   "source": [
    "## Preparing the data"
   ]
  },
  {
   "cell_type": "code",
   "execution_count": 3,
   "id": "076b396c-01c7-4d5c-8830-4cbbe4f7731f",
   "metadata": {},
   "outputs": [],
   "source": [
    "# path = \"http://archive.ics.uci.edu/ml/machine-learning-databases/wine-quality/winequality-red.csv\" \n",
    "path = \"../data/winequality.csv\""
   ]
  },
  {
   "cell_type": "code",
   "execution_count": 4,
   "id": "cba01196-c6cd-4081-a45c-f3da5dc202b5",
   "metadata": {},
   "outputs": [],
   "source": [
    "def get_data(uri):\n",
    "    try:\n",
    "        data = pd.read_csv(uri, sep=\";\")\n",
    "    except Exception as e:\n",
    "        logger.exception(\n",
    "            \"Unable to download training & test CSV, check your internet connection. Error: %s\", e)\n",
    "    return data\n"
   ]
  },
  {
   "cell_type": "code",
   "execution_count": 7,
   "id": "9ed7a185-6159-4f9f-bed4-3838d6e6784a",
   "metadata": {},
   "outputs": [],
   "source": [
    "data = get_data(path)"
   ]
  },
  {
   "cell_type": "code",
   "execution_count": 10,
   "id": "05e85841",
   "metadata": {},
   "outputs": [],
   "source": [
    "data.to_csv('data/winequality.csv', index=False, sep=';')"
   ]
  },
  {
   "cell_type": "code",
   "execution_count": 8,
   "id": "d1bb5d93-7ace-4be1-9273-ae6d54418043",
   "metadata": {},
   "outputs": [
    {
     "data": {
      "text/html": [
       "<div>\n",
       "<style scoped>\n",
       "    .dataframe tbody tr th:only-of-type {\n",
       "        vertical-align: middle;\n",
       "    }\n",
       "\n",
       "    .dataframe tbody tr th {\n",
       "        vertical-align: top;\n",
       "    }\n",
       "\n",
       "    .dataframe thead th {\n",
       "        text-align: right;\n",
       "    }\n",
       "</style>\n",
       "<table border=\"1\" class=\"dataframe\">\n",
       "  <thead>\n",
       "    <tr style=\"text-align: right;\">\n",
       "      <th></th>\n",
       "      <th>fixed acidity</th>\n",
       "      <th>volatile acidity</th>\n",
       "      <th>citric acid</th>\n",
       "      <th>residual sugar</th>\n",
       "      <th>chlorides</th>\n",
       "      <th>free sulfur dioxide</th>\n",
       "      <th>total sulfur dioxide</th>\n",
       "      <th>density</th>\n",
       "      <th>pH</th>\n",
       "      <th>sulphates</th>\n",
       "      <th>alcohol</th>\n",
       "      <th>quality</th>\n",
       "    </tr>\n",
       "  </thead>\n",
       "  <tbody>\n",
       "    <tr>\n",
       "      <th>count</th>\n",
       "      <td>1599.000000</td>\n",
       "      <td>1599.000000</td>\n",
       "      <td>1599.000000</td>\n",
       "      <td>1599.000000</td>\n",
       "      <td>1599.000000</td>\n",
       "      <td>1599.000000</td>\n",
       "      <td>1599.000000</td>\n",
       "      <td>1599.000000</td>\n",
       "      <td>1599.000000</td>\n",
       "      <td>1599.000000</td>\n",
       "      <td>1599.000000</td>\n",
       "      <td>1599.000000</td>\n",
       "    </tr>\n",
       "    <tr>\n",
       "      <th>mean</th>\n",
       "      <td>8.319637</td>\n",
       "      <td>0.527821</td>\n",
       "      <td>0.270976</td>\n",
       "      <td>2.538806</td>\n",
       "      <td>0.087467</td>\n",
       "      <td>15.874922</td>\n",
       "      <td>46.467792</td>\n",
       "      <td>0.996747</td>\n",
       "      <td>3.311113</td>\n",
       "      <td>0.658149</td>\n",
       "      <td>10.422983</td>\n",
       "      <td>5.636023</td>\n",
       "    </tr>\n",
       "    <tr>\n",
       "      <th>std</th>\n",
       "      <td>1.741096</td>\n",
       "      <td>0.179060</td>\n",
       "      <td>0.194801</td>\n",
       "      <td>1.409928</td>\n",
       "      <td>0.047065</td>\n",
       "      <td>10.460157</td>\n",
       "      <td>32.895324</td>\n",
       "      <td>0.001887</td>\n",
       "      <td>0.154386</td>\n",
       "      <td>0.169507</td>\n",
       "      <td>1.065668</td>\n",
       "      <td>0.807569</td>\n",
       "    </tr>\n",
       "    <tr>\n",
       "      <th>min</th>\n",
       "      <td>4.600000</td>\n",
       "      <td>0.120000</td>\n",
       "      <td>0.000000</td>\n",
       "      <td>0.900000</td>\n",
       "      <td>0.012000</td>\n",
       "      <td>1.000000</td>\n",
       "      <td>6.000000</td>\n",
       "      <td>0.990070</td>\n",
       "      <td>2.740000</td>\n",
       "      <td>0.330000</td>\n",
       "      <td>8.400000</td>\n",
       "      <td>3.000000</td>\n",
       "    </tr>\n",
       "    <tr>\n",
       "      <th>25%</th>\n",
       "      <td>7.100000</td>\n",
       "      <td>0.390000</td>\n",
       "      <td>0.090000</td>\n",
       "      <td>1.900000</td>\n",
       "      <td>0.070000</td>\n",
       "      <td>7.000000</td>\n",
       "      <td>22.000000</td>\n",
       "      <td>0.995600</td>\n",
       "      <td>3.210000</td>\n",
       "      <td>0.550000</td>\n",
       "      <td>9.500000</td>\n",
       "      <td>5.000000</td>\n",
       "    </tr>\n",
       "    <tr>\n",
       "      <th>50%</th>\n",
       "      <td>7.900000</td>\n",
       "      <td>0.520000</td>\n",
       "      <td>0.260000</td>\n",
       "      <td>2.200000</td>\n",
       "      <td>0.079000</td>\n",
       "      <td>14.000000</td>\n",
       "      <td>38.000000</td>\n",
       "      <td>0.996750</td>\n",
       "      <td>3.310000</td>\n",
       "      <td>0.620000</td>\n",
       "      <td>10.200000</td>\n",
       "      <td>6.000000</td>\n",
       "    </tr>\n",
       "    <tr>\n",
       "      <th>75%</th>\n",
       "      <td>9.200000</td>\n",
       "      <td>0.640000</td>\n",
       "      <td>0.420000</td>\n",
       "      <td>2.600000</td>\n",
       "      <td>0.090000</td>\n",
       "      <td>21.000000</td>\n",
       "      <td>62.000000</td>\n",
       "      <td>0.997835</td>\n",
       "      <td>3.400000</td>\n",
       "      <td>0.730000</td>\n",
       "      <td>11.100000</td>\n",
       "      <td>6.000000</td>\n",
       "    </tr>\n",
       "    <tr>\n",
       "      <th>max</th>\n",
       "      <td>15.900000</td>\n",
       "      <td>1.580000</td>\n",
       "      <td>1.000000</td>\n",
       "      <td>15.500000</td>\n",
       "      <td>0.611000</td>\n",
       "      <td>72.000000</td>\n",
       "      <td>289.000000</td>\n",
       "      <td>1.003690</td>\n",
       "      <td>4.010000</td>\n",
       "      <td>2.000000</td>\n",
       "      <td>14.900000</td>\n",
       "      <td>8.000000</td>\n",
       "    </tr>\n",
       "  </tbody>\n",
       "</table>\n",
       "</div>"
      ],
      "text/plain": [
       "       fixed acidity  volatile acidity  citric acid  residual sugar  \\\n",
       "count    1599.000000       1599.000000  1599.000000     1599.000000   \n",
       "mean        8.319637          0.527821     0.270976        2.538806   \n",
       "std         1.741096          0.179060     0.194801        1.409928   \n",
       "min         4.600000          0.120000     0.000000        0.900000   \n",
       "25%         7.100000          0.390000     0.090000        1.900000   \n",
       "50%         7.900000          0.520000     0.260000        2.200000   \n",
       "75%         9.200000          0.640000     0.420000        2.600000   \n",
       "max        15.900000          1.580000     1.000000       15.500000   \n",
       "\n",
       "         chlorides  free sulfur dioxide  total sulfur dioxide      density  \\\n",
       "count  1599.000000          1599.000000           1599.000000  1599.000000   \n",
       "mean      0.087467            15.874922             46.467792     0.996747   \n",
       "std       0.047065            10.460157             32.895324     0.001887   \n",
       "min       0.012000             1.000000              6.000000     0.990070   \n",
       "25%       0.070000             7.000000             22.000000     0.995600   \n",
       "50%       0.079000            14.000000             38.000000     0.996750   \n",
       "75%       0.090000            21.000000             62.000000     0.997835   \n",
       "max       0.611000            72.000000            289.000000     1.003690   \n",
       "\n",
       "                pH    sulphates      alcohol      quality  \n",
       "count  1599.000000  1599.000000  1599.000000  1599.000000  \n",
       "mean      3.311113     0.658149    10.422983     5.636023  \n",
       "std       0.154386     0.169507     1.065668     0.807569  \n",
       "min       2.740000     0.330000     8.400000     3.000000  \n",
       "25%       3.210000     0.550000     9.500000     5.000000  \n",
       "50%       3.310000     0.620000    10.200000     6.000000  \n",
       "75%       3.400000     0.730000    11.100000     6.000000  \n",
       "max       4.010000     2.000000    14.900000     8.000000  "
      ]
     },
     "execution_count": 8,
     "metadata": {},
     "output_type": "execute_result"
    }
   ],
   "source": [
    "data.describe()"
   ]
  },
  {
   "cell_type": "code",
   "execution_count": 9,
   "id": "e4229966-5de0-467e-a36f-dfb0bc04fc43",
   "metadata": {},
   "outputs": [],
   "source": [
    "train, test = train_test_split(data)\n",
    "\n",
    "X_train = train.drop([\"quality\"], axis=1)\n",
    "X_test = test.drop([\"quality\"], axis=1)\n",
    "y_train = train[[\"quality\"]]\n",
    "y_test = test[[\"quality\"]]"
   ]
  },
  {
   "cell_type": "markdown",
   "id": "e248d781-b97a-43a5-82ba-d69d0e1b9a08",
   "metadata": {},
   "source": [
    "## Training with mlflow"
   ]
  },
  {
   "cell_type": "code",
   "execution_count": 10,
   "id": "faf7ab74-fe04-4521-8aa8-67f5574cd9f1",
   "metadata": {},
   "outputs": [],
   "source": [
    "mlflow.set_tracking_uri(\"http://localhost:5000\")"
   ]
  },
  {
   "cell_type": "code",
   "execution_count": 11,
   "id": "220f2347-898a-4489-95f5-6a06a73b8711",
   "metadata": {},
   "outputs": [],
   "source": [
    "experiment_name = \"wine-quality-experiment\"\n",
    "experiment = mlflow.get_experiment_by_name(experiment_name)\n",
    "experiment_id = mlflow.create_experiment(experiment_name) if experiment is None else experiment.experiment_id"
   ]
  },
  {
   "cell_type": "code",
   "execution_count": 12,
   "id": "5ea66303-82ef-4e5b-b1c7-949ed288d890",
   "metadata": {},
   "outputs": [],
   "source": [
    "experiment"
   ]
  },
  {
   "cell_type": "markdown",
   "id": "9761844b-2335-4057-9536-e8266ed188fd",
   "metadata": {},
   "source": [
    "### modelling"
   ]
  },
  {
   "cell_type": "code",
   "execution_count": 13,
   "id": "a079849f-48ad-421f-b9a5-d3f9c65122e0",
   "metadata": {},
   "outputs": [],
   "source": [
    "from sklearn.metrics import mean_squared_error, mean_absolute_error, r2_score\n",
    "from sklearn.linear_model import ElasticNet\n",
    "from xgboost import XGBRegressor"
   ]
  },
  {
   "cell_type": "code",
   "execution_count": 15,
   "id": "7a56dc76",
   "metadata": {},
   "outputs": [],
   "source": []
  },
  {
   "cell_type": "code",
   "execution_count": 14,
   "id": "85999daf-aec5-418a-bd2c-09d792059ff4",
   "metadata": {},
   "outputs": [],
   "source": [
    "import warnings\n",
    "warnings.filterwarnings(\"ignore\")"
   ]
  },
  {
   "cell_type": "code",
   "execution_count": 16,
   "id": "4d2191ab-f060-4c13-9059-643b2381df7d",
   "metadata": {},
   "outputs": [],
   "source": [
    "def eval_metrics(y_true, y_pred):\n",
    "    rmse = np.sqrt(mean_squared_error(y_true, y_pred))\n",
    "    mae = mean_absolute_error(y_true, y_pred)\n",
    "    r2 = r2_score(y_true, y_pred)\n",
    "    return rmse, mae, r2\n",
    "        \n",
    "    \n",
    "\n",
    "def train_model(X_train, X_test, y_train, y_test, experiment_id, parameters, model_type=\"sklearn\"):\n",
    "    with mlflow.start_run(experiment_id=experiment_id):\n",
    "        run = mlflow.active_run()\n",
    "        print(run.info.artifact_uri, run.info.run_name, run.info.run_id)\n",
    "        if model_type == \"sklearn\":\n",
    "            model = ElasticNet(**parameters)\n",
    "            log_model_func = mlflow.sklearn.log_model\n",
    "        elif model_type == \"xgboost\":\n",
    "            model = XGBRegressor(**parameters)\n",
    "            log_model_func = mlflow.xgboost.log_model\n",
    "        else:\n",
    "            raise ValueError(\"Invalid model_type\")\n",
    "        \n",
    "        model.fit(X_train, y_train)\n",
    "    \n",
    "        # Evaluate Metrics\n",
    "        predicted_qualities = model.predict(X_test)\n",
    "        metrics = eval_metrics(y_test, predicted_qualities)\n",
    "    \n",
    "        # Log metrics and parameters\n",
    "        metric_dict = {\"RMSE\": metrics[0], \"MAE\": metrics[1], \"R2\": metrics[2]}\n",
    "        print(f\"  parameters: {parameters}\")\n",
    "        mlflow.log_params(parameters)\n",
    "        print(f\"  metrics: {metric_dict}\")\n",
    "        mlflow.log_metrics(metric_dict)\n",
    "    \n",
    "        # Log model to MLflow\n",
    "        log_model_func(model, \"model\")\n",
    "        return model, run.info.run_id"
   ]
  },
  {
   "cell_type": "code",
   "execution_count": 17,
   "id": "b569dcc9",
   "metadata": {},
   "outputs": [
    {
     "name": "stdout",
     "output_type": "stream",
     "text": [
      "mlflow-artifacts:/2/99dea9ded3a74bef87f65a4b79e562f6/artifacts bemused-robin-43 99dea9ded3a74bef87f65a4b79e562f6\n",
      "  parameters: {'alpha': 10, 'n_estimators': 10}\n",
      "  metrics: {'RMSE': 0.6418836987126934, 'MAE': 0.49828591108322146, 'R2': 0.2846656839739785}\n"
     ]
    },
    {
     "data": {
      "text/plain": [
       "(XGBRegressor(alpha=10, base_score=None, booster=None, callbacks=None,\n",
       "              colsample_bylevel=None, colsample_bynode=None,\n",
       "              colsample_bytree=None, early_stopping_rounds=None,\n",
       "              enable_categorical=False, eval_metric=None, feature_types=None,\n",
       "              gamma=None, gpu_id=None, grow_policy=None, importance_type=None,\n",
       "              interaction_constraints=None, learning_rate=None, max_bin=None,\n",
       "              max_cat_threshold=None, max_cat_to_onehot=None,\n",
       "              max_delta_step=None, max_depth=None, max_leaves=None,\n",
       "              min_child_weight=None, missing=nan, monotone_constraints=None,\n",
       "              n_estimators=10, n_jobs=None, num_parallel_tree=None,\n",
       "              predictor=None, ...),\n",
       " '99dea9ded3a74bef87f65a4b79e562f6')"
      ]
     },
     "execution_count": 17,
     "metadata": {},
     "output_type": "execute_result"
    }
   ],
   "source": [
    "model_type = \"xgboost\"\n",
    "bst_10 = train_model(X_train.values, X_test.values, y_train.values, y_test.values, experiment_id, parameters={\"alpha\":10, \"n_estimators\":10}, model_type=model_type)\n",
    "bst_10"
   ]
  },
  {
   "cell_type": "code",
   "execution_count": 18,
   "id": "f8910898",
   "metadata": {},
   "outputs": [
    {
     "name": "stdout",
     "output_type": "stream",
     "text": [
      "mlflow-artifacts:/2/12f4f11316914e669733544324d1acc1/artifacts enthused-panda-29 12f4f11316914e669733544324d1acc1\n",
      "  parameters: {'alpha': 10, 'n_estimators': 100}\n",
      "  metrics: {'RMSE': 0.5977678682048612, 'MAE': 0.4560557770729065, 'R2': 0.3796146981063687}\n"
     ]
    },
    {
     "data": {
      "text/plain": [
       "(XGBRegressor(alpha=10, base_score=None, booster=None, callbacks=None,\n",
       "              colsample_bylevel=None, colsample_bynode=None,\n",
       "              colsample_bytree=None, early_stopping_rounds=None,\n",
       "              enable_categorical=False, eval_metric=None, feature_types=None,\n",
       "              gamma=None, gpu_id=None, grow_policy=None, importance_type=None,\n",
       "              interaction_constraints=None, learning_rate=None, max_bin=None,\n",
       "              max_cat_threshold=None, max_cat_to_onehot=None,\n",
       "              max_delta_step=None, max_depth=None, max_leaves=None,\n",
       "              min_child_weight=None, missing=nan, monotone_constraints=None,\n",
       "              n_estimators=100, n_jobs=None, num_parallel_tree=None,\n",
       "              predictor=None, ...),\n",
       " '12f4f11316914e669733544324d1acc1')"
      ]
     },
     "execution_count": 18,
     "metadata": {},
     "output_type": "execute_result"
    }
   ],
   "source": [
    "model_type = \"xgboost\"\n",
    "bst_100 = train_model(X_train.values, X_test.values, y_train.values, y_test.values, experiment_id, parameters={\"alpha\":10, \"n_estimators\":100}, model_type=model_type)\n",
    "bst_100"
   ]
  },
  {
   "cell_type": "code",
   "execution_count": 20,
   "id": "486a4ba0",
   "metadata": {},
   "outputs": [],
   "source": [
    "!mkdir xgb_wine"
   ]
  },
  {
   "cell_type": "markdown",
   "id": "8e353daa",
   "metadata": {},
   "source": [
    "Prepare artefacts for deployment"
   ]
  },
  {
   "cell_type": "code",
   "execution_count": 23,
   "id": "6b17f95c",
   "metadata": {},
   "outputs": [
    {
     "name": "stdout",
     "output_type": "stream",
     "text": [
      "Overwriting xgb_wine/model-settings.json\n"
     ]
    }
   ],
   "source": [
    "%%writefile xgb_wine/model-settings.json\n",
    "{\n",
    "    \"name\": \"wine-xgboost\",\n",
    "    \"implementation\": \"mlserver_xgboost.XGBoostModel\",\n",
    "    \"parameters\": {\n",
    "        \"version\": \"v0.1.0\"\n",
    "    }\n",
    "}"
   ]
  },
  {
   "cell_type": "code",
   "execution_count": 24,
   "id": "8a3a8850",
   "metadata": {},
   "outputs": [
    {
     "name": "stdout",
     "output_type": "stream",
     "text": [
      "99dea9ded3a74bef87f65a4b79e562f6\n",
      "Artefacts logged\n"
     ]
    }
   ],
   "source": [
    "def prepare_xgb_folder(run_id):\n",
    "    bst = mlflow.xgboost.load_model(f'runs:/{run_id}/model')\n",
    "    model_file_name = 'xgb_wine/model.bst'\n",
    "    bst.save_model(model_file_name)\n",
    "    with mlflow.start_run(experiment_id=experiment_id, run_id=run_id):\n",
    "        mlflow.log_artifacts(\"xgb_wine/\", artifact_path=\"xgb_wine/model\")\n",
    "    print(\"Artefacts logged\")\n",
    "\n",
    "print(bst_10[1]) # 99dea9ded3a74bef87f65a4b79e562f6\n",
    "prepare_xgb_folder(run_id=bst_10[1])"
   ]
  },
  {
   "cell_type": "markdown",
   "id": "c7076a53",
   "metadata": {},
   "source": [
    "Deploying the model"
   ]
  },
  {
   "cell_type": "code",
   "execution_count": 25,
   "id": "59173803",
   "metadata": {},
   "outputs": [
    {
     "name": "stdout",
     "output_type": "stream",
     "text": [
      "Writing ../seldon/xgb_wine.yaml\n"
     ]
    }
   ],
   "source": [
    "%%writefile ../seldon/xgb_wine.yaml\n",
    "apiVersion: machinelearning.seldon.io/v1alpha2\n",
    "kind: SeldonDeployment\n",
    "metadata:\n",
    "  name: xgb-wine-k8s\n",
    "  namespace: ml-models\n",
    "spec:\n",
    "  name: xgb-wines\n",
    "  predictors:\n",
    "    - graph:\n",
    "        children: []\n",
    "        envSecretRefName: seldon-init-container-secret\n",
    "        implementation: XGBOOST_SERVER\n",
    "        modelUri: s3://models/2/99dea9ded3a74bef87f65a4b79e562f6/artifacts/xgb_wine/model/\n",
    "        name: classifier\n",
    "      name: default\n",
    "      replicas: 1"
   ]
  },
  {
   "cell_type": "code",
   "execution_count": 26,
   "id": "1110655c",
   "metadata": {},
   "outputs": [
    {
     "name": "stdout",
     "output_type": "stream",
     "text": [
      "seldondeployment.machinelearning.seldon.io/xgb-wine-k8s created\n"
     ]
    }
   ],
   "source": [
    "!kubectl apply -n ml-models -f ../seldon/xgb_wine.yaml"
   ]
  },
  {
   "cell_type": "markdown",
   "id": "c3f96e4a",
   "metadata": {},
   "source": [
    "Testing the model"
   ]
  },
  {
   "cell_type": "code",
   "execution_count": 34,
   "id": "b440c7e6-edf5-4629-975d-52e26be4a9f8",
   "metadata": {},
   "outputs": [],
   "source": [
    "# k8s port-forward -n ml-models svc/xgb-wine-k8s-default 8000"
   ]
  },
  {
   "cell_type": "code",
   "execution_count": 27,
   "id": "afd8d2f8",
   "metadata": {},
   "outputs": [],
   "source": [
    "import requests"
   ]
  },
  {
   "cell_type": "code",
   "execution_count": 28,
   "id": "32fbe630",
   "metadata": {},
   "outputs": [
    {
     "name": "stdout",
     "output_type": "stream",
     "text": [
      "wine quality prediction: 5.027922630310059\n"
     ]
    }
   ],
   "source": [
    "response = requests.post(\"http://localhost:8000/api/v1.0/predictions\",\n",
    "                         json={\"data\": {\"ndarray\":[[7.4, 0.7, 0, 1.9, 0.076, 11, 34, 0.9978, 3.51, 0.56, 9.4]]}}\n",
    "                         )\n",
    "\n",
    "print(\"wine quality prediction:\", response.json()['data']['ndarray'][0])"
   ]
  },
  {
   "cell_type": "markdown",
   "id": "8ee055b4",
   "metadata": {},
   "source": [
    "Deploy a new version"
   ]
  },
  {
   "cell_type": "code",
   "execution_count": 30,
   "id": "e6b82a95",
   "metadata": {},
   "outputs": [
    {
     "name": "stdout",
     "output_type": "stream",
     "text": [
      "12f4f11316914e669733544324d1acc1\n",
      "Artefacts logged\n"
     ]
    }
   ],
   "source": [
    "print(bst_100[1]) # 12f4f11316914e669733544324d1acc1\n",
    "prepare_xgb_folder(run_id=bst_100[1])"
   ]
  },
  {
   "cell_type": "code",
   "execution_count": 31,
   "id": "0bb8b23c",
   "metadata": {},
   "outputs": [
    {
     "name": "stdout",
     "output_type": "stream",
     "text": [
      "Overwriting ../seldon/xgb_wine.yaml\n"
     ]
    }
   ],
   "source": [
    "%%writefile ../seldon/xgb_wine.yaml\n",
    "apiVersion: machinelearning.seldon.io/v1alpha2\n",
    "kind: SeldonDeployment\n",
    "metadata:\n",
    "  name: xgb-wine-k8s\n",
    "  namespace: ml-models\n",
    "spec:\n",
    "  name: xgb-wines\n",
    "  predictors:\n",
    "    - graph:\n",
    "        children: []\n",
    "        envSecretRefName: seldon-init-container-secret\n",
    "        implementation: XGBOOST_SERVER\n",
    "        modelUri: s3://models/2/12f4f11316914e669733544324d1acc1/artifacts/xgb_wine/model/\n",
    "        name: classifier\n",
    "      name: default\n",
    "      replicas: 1"
   ]
  },
  {
   "cell_type": "code",
   "execution_count": 33,
   "id": "c13eec99",
   "metadata": {},
   "outputs": [
    {
     "name": "stdout",
     "output_type": "stream",
     "text": [
      "seldondeployment.machinelearning.seldon.io/xgb-wine-k8s unchanged\n"
     ]
    }
   ],
   "source": [
    "!kubectl apply -n ml-models -f ../seldon/xgb_wine.yaml"
   ]
  },
  {
   "cell_type": "code",
   "execution_count": 34,
   "id": "158f42ad",
   "metadata": {},
   "outputs": [
    {
     "name": "stdout",
     "output_type": "stream",
     "text": [
      "wine quality prediction: 5.0922346115112305\n"
     ]
    }
   ],
   "source": [
    "response = requests.post(\"http://localhost:8000/api/v1.0/predictions\",\n",
    "                         json={\"data\": {\"ndarray\":[[7.4, 0.7, 0, 1.9, 0.076, 11, 34, 0.9978, 3.51, 0.56, 9.4]]}}\n",
    "                         )\n",
    "\n",
    "print(\"wine quality prediction:\", response.json()['data']['ndarray'][0])"
   ]
  },
  {
   "cell_type": "code",
   "execution_count": null,
   "id": "44e60541",
   "metadata": {},
   "outputs": [],
   "source": []
  },
  {
   "cell_type": "markdown",
   "id": "8251af26",
   "metadata": {},
   "source": [
    "Train an sklearn model and deploy the MLFlow artefact"
   ]
  },
  {
   "cell_type": "code",
   "execution_count": 36,
   "id": "29ec3c87-d5f7-4272-a85a-b18d9e3bfe26",
   "metadata": {},
   "outputs": [
    {
     "name": "stdout",
     "output_type": "stream",
     "text": [
      "mlflow-artifacts:/2/3304a579914342b5b2ab830cbe925e0c/artifacts sincere-cow-804 3304a579914342b5b2ab830cbe925e0c\n",
      "  parameters: {'alpha': 0.0005, 'l1_ratio': 0.99}\n",
      "  metrics: {'RMSE': 0.6205373614258609, 'MAE': 0.4896880688132586, 'R2': 0.33145255102153803}\n"
     ]
    },
    {
     "data": {
      "text/plain": [
       "(ElasticNet(alpha=0.0005, l1_ratio=0.99), '3304a579914342b5b2ab830cbe925e0c')"
      ]
     },
     "execution_count": 36,
     "metadata": {},
     "output_type": "execute_result"
    }
   ],
   "source": [
    "en_99 = train_model(X_train, X_test, y_train, y_test, experiment_id, {\"alpha\":0.0005, \"l1_ratio\":0.99}, \"sklearn\")\n",
    "en_99"
   ]
  },
  {
   "cell_type": "code",
   "execution_count": 37,
   "id": "10d20a20",
   "metadata": {},
   "outputs": [
    {
     "name": "stdout",
     "output_type": "stream",
     "text": [
      "Collecting packages...\n",
      "Packing environment at '/Users/danielvargas/miniconda3/envs/mlflow-k8s' to 'environment.tar.gz'\n",
      "[########################################] | 100% Completed | 26.6s\n"
     ]
    },
    {
     "data": {
      "text/plain": [
       "'environment.tar.gz'"
      ]
     },
     "execution_count": 37,
     "metadata": {},
     "output_type": "execute_result"
    }
   ],
   "source": [
    "import conda_pack\n",
    "env_file_path = \"environment.tar.gz\"\n",
    "conda_pack.pack(\n",
    "    output=str(env_file_path),\n",
    "    force=True,\n",
    "    verbose=True,\n",
    "    ignore_editable_packages=False,\n",
    "    ignore_missing_files=True,\n",
    ")"
   ]
  },
  {
   "cell_type": "code",
   "execution_count": 89,
   "id": "7548e9cc",
   "metadata": {},
   "outputs": [],
   "source": []
  },
  {
   "cell_type": "code",
   "execution_count": 38,
   "id": "0075926e",
   "metadata": {},
   "outputs": [],
   "source": [
    "run_id = en_99[1] # 3304a579914342b5b2ab830cbe925e0c\n",
    "with mlflow.start_run(experiment_id=experiment_id, run_id=run_id):\n",
    "    mlflow.log_artifact(env_file_path, artifact_path=\"model\")"
   ]
  },
  {
   "cell_type": "code",
   "execution_count": 39,
   "id": "77b648d3",
   "metadata": {},
   "outputs": [
    {
     "name": "stdout",
     "output_type": "stream",
     "text": [
      "Writing ../seldon/mlflow_wine.yaml\n"
     ]
    }
   ],
   "source": [
    "%%writefile ../seldon/mlflow_wine.yaml\n",
    "apiVersion: machinelearning.seldon.io/v1alpha2\n",
    "kind: SeldonDeployment\n",
    "metadata:\n",
    "  name: mlflow-wine\n",
    "  namespace: ml-models\n",
    "spec:\n",
    "  protocol: kfserving\n",
    "  name: wines\n",
    "  predictors:\n",
    "    - graph:\n",
    "        children: []\n",
    "        envSecretRefName: seldon-init-container-secret\n",
    "        implementation: MLFLOW_SERVER\n",
    "        modelUri: s3://models/2/3304a579914342b5b2ab830cbe925e0c/artifacts/model\n",
    "        name: classifier\n",
    "      name: default\n",
    "      replicas: 1\n"
   ]
  },
  {
   "cell_type": "code",
   "execution_count": 40,
   "id": "43dad8d6",
   "metadata": {},
   "outputs": [
    {
     "name": "stdout",
     "output_type": "stream",
     "text": [
      "seldondeployment.machinelearning.seldon.io/mlflow-wine created\n"
     ]
    }
   ],
   "source": [
    "!kubectl apply -n ml-models -f ../seldon/mlflow_wine.yaml"
   ]
  },
  {
   "cell_type": "code",
   "execution_count": 68,
   "id": "18fabcfd-436f-4d28-96f2-b95a59a8db5b",
   "metadata": {},
   "outputs": [],
   "source": [
    "# k8s port-forward -n ml-models svc/mlflow-wine-default 8000"
   ]
  },
  {
   "cell_type": "code",
   "execution_count": 41,
   "id": "9355ffac-dea0-4efe-9c1e-43a730a880a6",
   "metadata": {},
   "outputs": [],
   "source": [
    "inference_request = {\n",
    "    \"parameters\": {\"content_type\": \"pd\"},\n",
    "    \"inputs\": [\n",
    "        {\"name\": \"fixed acidity\", \"shape\": [1], \"datatype\": \"FP32\", \"data\": [7.4],  \"parameters\": {\"content_type\": \"np\"}},\n",
    "        {\"name\": \"volatile acidity\", \"shape\": [1], \"datatype\": \"FP32\", \"data\": [0.7000], \"parameters\": {\"content_type\": \"np\"}},\n",
    "        {\"name\": \"citric acid\", \"shape\": [1], \"datatype\": \"FP32\", \"data\": [0], \"parameters\": {\"content_type\": \"np\"}},\n",
    "        {\"name\": \"residual sugar\", \"shape\": [1], \"datatype\": \"FP32\", \"data\": [1.9], \"parameters\": {\"content_type\": \"np\"}},\n",
    "        {\"name\": \"chlorides\", \"shape\": [1], \"datatype\": \"FP32\", \"data\": [0.076], \"parameters\": {\"content_type\": \"np\"}},\n",
    "        {\"name\": \"free sulfur dioxide\", \"shape\": [1], \"datatype\": \"FP32\", \"data\": [11], \"parameters\": {\"content_type\": \"np\"}},\n",
    "        {\"name\": \"total sulfur dioxide\", \"shape\": [1], \"datatype\": \"FP32\", \"data\": [34], \"parameters\": {\"content_type\": \"np\"}},\n",
    "        {\"name\": \"density\", \"shape\": [1], \"datatype\": \"FP32\", \"data\": [0.9978], \"parameters\": {\"content_type\": \"np\"}},\n",
    "        {\"name\": \"pH\", \"shape\": [1], \"datatype\": \"FP32\", \"data\": [3.51], \"parameters\": {\"content_type\": \"np\"}},\n",
    "        {\"name\": \"sulphates\", \"shape\": [1], \"datatype\": \"FP32\", \"data\": [0.56], \"parameters\": {\"content_type\": \"np\"}},\n",
    "        {\"name\": \"alcohol\", \"shape\": [1], \"datatype\": \"FP32\", \"data\": [9.4], \"parameters\": {\"content_type\": \"np\"}},\n",
    "    ]\n",
    "}\n"
   ]
  },
  {
   "cell_type": "code",
   "execution_count": 44,
   "id": "029c4549",
   "metadata": {},
   "outputs": [],
   "source": [
    "endpoint = \"http://localhost:8000/v2/models/classifier/infer\"\n",
    "response = requests.post(endpoint, json=inference_request)"
   ]
  },
  {
   "cell_type": "code",
   "execution_count": 45,
   "id": "4130b0df",
   "metadata": {},
   "outputs": [
    {
     "name": "stdout",
     "output_type": "stream",
     "text": [
      "Wine quality: 5.008359887222566\n"
     ]
    }
   ],
   "source": [
    "assert response.ok\n",
    "print(\"Wine quality:\", response.json()['outputs'][0]['data'][0])\n"
   ]
  },
  {
   "cell_type": "code",
   "execution_count": null,
   "id": "d3d00d70",
   "metadata": {},
   "outputs": [],
   "source": []
  }
 ],
 "metadata": {
  "kernelspec": {
   "display_name": "Python 3 (ipykernel)",
   "language": "python",
   "name": "python3"
  },
  "language_info": {
   "codemirror_mode": {
    "name": "ipython",
    "version": 3
   },
   "file_extension": ".py",
   "mimetype": "text/x-python",
   "name": "python",
   "nbconvert_exporter": "python",
   "pygments_lexer": "ipython3",
   "version": "3.8.18"
  }
 },
 "nbformat": 4,
 "nbformat_minor": 5
}
